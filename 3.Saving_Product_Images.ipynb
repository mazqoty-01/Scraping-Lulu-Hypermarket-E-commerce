{
 "cells": [
  {
   "cell_type": "markdown",
   "metadata": {},
   "source": [
    "### Imports"
   ]
  },
  {
   "cell_type": "code",
   "execution_count": 1,
   "metadata": {},
   "outputs": [],
   "source": [
    "from bs4 import BeautifulSoup # HTML data structur\n",
    "import requests\n",
    "from urllib.request import urlopen as uReq  # Web client\n",
    "import urllib.request\n",
    "from tqdm import tqdm\n",
    "import pandas as pd\n",
    "import csv\n",
    "import time"
   ]
  },
  {
   "cell_type": "markdown",
   "metadata": {},
   "source": [
    "### CSV / Excel Files"
   ]
  },
  {
   "cell_type": "code",
   "execution_count": 2,
   "metadata": {},
   "outputs": [],
   "source": [
    "#----------------------Calling Products file which has Product Images------------------------------------------------#\n",
    "\n",
    "path = \"C:/Users/Mazhar/Projects_Jupyter/5.Scraping-Lulu_Hypermarket/csv_excel_files/Lulu_Products.xlsx\"\n",
    "\n",
    "df = pd.read_excel(path, index_col = None) \n",
    "\n",
    "links = df.values.tolist()\n",
    "\n",
    "# END------------------Calling Links file------------------------------------------------#"
   ]
  },
  {
   "cell_type": "code",
   "execution_count": 3,
   "metadata": {},
   "outputs": [
    {
     "data": {
      "text/html": [
       "<div>\n",
       "<style scoped>\n",
       "    .dataframe tbody tr th:only-of-type {\n",
       "        vertical-align: middle;\n",
       "    }\n",
       "\n",
       "    .dataframe tbody tr th {\n",
       "        vertical-align: top;\n",
       "    }\n",
       "\n",
       "    .dataframe thead th {\n",
       "        text-align: right;\n",
       "    }\n",
       "</style>\n",
       "<table border=\"1\" class=\"dataframe\">\n",
       "  <thead>\n",
       "    <tr style=\"text-align: right;\">\n",
       "      <th></th>\n",
       "      <th>Product Titles</th>\n",
       "      <th>Brands</th>\n",
       "      <th>Category</th>\n",
       "      <th>Description</th>\n",
       "      <th>Price</th>\n",
       "      <th>Image_1</th>\n",
       "      <th>Image_2</th>\n",
       "      <th>Image_3</th>\n",
       "    </tr>\n",
       "  </thead>\n",
       "  <tbody>\n",
       "    <tr>\n",
       "      <th>0</th>\n",
       "      <td>Lipton Extra Strong Black Tea 25pcs</td>\n",
       "      <td>Lipton</td>\n",
       "      <td>Grocery/Food Cupboard/Hot Beverages/Tea</td>\n",
       "      <td>&lt;div class=\"description\"&gt;&lt;ul&gt;&lt;li&gt;Lipton black ...</td>\n",
       "      <td>5.80</td>\n",
       "      <td>https://www.luluhypermarket.com/medias/1064261...</td>\n",
       "      <td>https://www.luluhypermarket.com/medias/1064261...</td>\n",
       "      <td>https://www.luluhypermarket.com/medias/1064261...</td>\n",
       "    </tr>\n",
       "    <tr>\n",
       "      <th>1</th>\n",
       "      <td>Heinz Classic Vegetable Soup 400g</td>\n",
       "      <td>Heinz</td>\n",
       "      <td>Grocery/Food Cupboard/Canned Foods/Soups</td>\n",
       "      <td>&lt;div class=\"description\"&gt;&lt;ul&gt;&lt;li&gt;Classic Veget...</td>\n",
       "      <td>12.50</td>\n",
       "      <td>https://www.luluhypermarket.com/medias/29802-0...</td>\n",
       "      <td>https://www.luluhypermarket.com/medias/29802-0...</td>\n",
       "      <td>https://www.luluhypermarket.com/medias/29802-0...</td>\n",
       "    </tr>\n",
       "  </tbody>\n",
       "</table>\n",
       "</div>"
      ],
      "text/plain": [
       "                        Product Titles  Brands  \\\n",
       "0  Lipton Extra Strong Black Tea 25pcs  Lipton   \n",
       "1    Heinz Classic Vegetable Soup 400g   Heinz   \n",
       "\n",
       "                                   Category  \\\n",
       "0   Grocery/Food Cupboard/Hot Beverages/Tea   \n",
       "1  Grocery/Food Cupboard/Canned Foods/Soups   \n",
       "\n",
       "                                         Description   Price  \\\n",
       "0  <div class=\"description\"><ul><li>Lipton black ...    5.80   \n",
       "1  <div class=\"description\"><ul><li>Classic Veget...   12.50   \n",
       "\n",
       "                                             Image_1  \\\n",
       "0  https://www.luluhypermarket.com/medias/1064261...   \n",
       "1  https://www.luluhypermarket.com/medias/29802-0...   \n",
       "\n",
       "                                             Image_2  \\\n",
       "0  https://www.luluhypermarket.com/medias/1064261...   \n",
       "1  https://www.luluhypermarket.com/medias/29802-0...   \n",
       "\n",
       "                                             Image_3  \n",
       "0  https://www.luluhypermarket.com/medias/1064261...  \n",
       "1  https://www.luluhypermarket.com/medias/29802-0...  "
      ]
     },
     "execution_count": 3,
     "metadata": {},
     "output_type": "execute_result"
    }
   ],
   "source": [
    "df.head(2)"
   ]
  },
  {
   "cell_type": "code",
   "execution_count": 4,
   "metadata": {},
   "outputs": [
    {
     "data": {
      "text/plain": [
       "'https://www.luluhypermarket.com/medias/1064261-01.JPG-515Wx515H?context=bWFzdGVyfGltYWdlc3wxMTk1MzQ3fGltYWdlL2pwZWd8aDA1L2hhZC85NzE1MjEyMDI1ODg2LzEwNjQyNjEtMDEuSlBHXzUxNVd4NTE1SHwyZDk4MzZjMTE4NGNlYTFhZGNkMzdhODgwZTA2ZWI2ZGEyYzU1NjMxYzcxZTY5YjIwZWZiMDhkOGRkN2I0MTUy'"
      ]
     },
     "execution_count": 4,
     "metadata": {},
     "output_type": "execute_result"
    }
   ],
   "source": [
    " #image link\n",
    "links[0][5]"
   ]
  },
  {
   "cell_type": "code",
   "execution_count": 5,
   "metadata": {},
   "outputs": [
    {
     "data": {
      "text/plain": [
       "'Lipton Extra Strong Black Tea 25pcs'"
      ]
     },
     "execution_count": 5,
     "metadata": {},
     "output_type": "execute_result"
    }
   ],
   "source": [
    "#name of Image\n",
    "links[0][0] "
   ]
  },
  {
   "cell_type": "code",
   "execution_count": 6,
   "metadata": {},
   "outputs": [
    {
     "data": {
      "text/plain": [
       "10668"
      ]
     },
     "execution_count": 6,
     "metadata": {},
     "output_type": "execute_result"
    }
   ],
   "source": [
    "len(links)"
   ]
  },
  {
   "cell_type": "markdown",
   "metadata": {},
   "source": [
    "### Saving/Downloading Product Images"
   ]
  },
  {
   "cell_type": "code",
   "execution_count": 7,
   "metadata": {},
   "outputs": [
    {
     "name": "stderr",
     "output_type": "stream",
     "text": [
      "Progress: 100%|██████████| 2/2 [00:01<00:00,  1.10it/s]\n"
     ]
    }
   ],
   "source": [
    "hdr = {'User-Agent': 'Mozilla/5.0 (X11; Linux x86_64) AppleWebKit/537.11 (KHTML, like Gecko) \\\n",
    "       Chrome/23.0.1271.64 Safari/537.11',\n",
    "   'Accept': 'text/html,application/xhtml+xml,application/xml;q=0.9,*/*;q=0.8',\n",
    "   'Accept-Charset': 'ISO-8859-1,utf-8;q=0.7,*;q=0.3',\n",
    "   'Accept-Encoding': 'none',\n",
    "   'Accept-Language': 'en-US,en;q=0.8',\n",
    "   'Connection': 'keep-alive'}\n",
    "\n",
    "for i in tqdm(range(0,len(links)-10666), desc = 'Progress'): # Only scrapping images of few products\n",
    "\n",
    "#----------------------First Image------------------------------------------------#\n",
    "    try:\n",
    "        image_url = links[i][5]\n",
    "\n",
    "        #Open the URL as Browser, not as python urllib\n",
    "        page = urllib.request.Request(image_url,headers = hdr)\n",
    "        infile = urllib.request.urlopen(page).read()\n",
    "\n",
    "        #Read the content as string decoded with ISO-8859-1\n",
    "        #data = infile.decode('ISO-8859-1')\n",
    "\n",
    "        imagefile = open('C:/Users/Mazhar/Projects_Jupyter/5.Scraping-Lulu_Hypermarket/Images/'+ links[i][0] \\\n",
    "                         + '_1' + \".jpeg\", \"wb\")\n",
    "        imagefile.write(infile)\n",
    "        imagefile.close()\n",
    "\n",
    "    except Exception as e:\n",
    "        pass\n",
    "\n",
    "#----------------------Second Image------------------------------------------------#\n",
    "    try:\n",
    "        image_url = links[i][6]\n",
    "\n",
    "        #Open the URL as Browser, not as python urllib\n",
    "        page = urllib.request.Request(image_url,headers = hdr)\n",
    "        infile = urllib.request.urlopen(page).read()\n",
    "\n",
    "        #Read the content as string decoded with ISO-8859-1\n",
    "        #data = infile.decode('ISO-8859-1')\n",
    "\n",
    "        imagefile = open('C:/Users/Mazhar/Projects_Jupyter/5.Scraping-Lulu_Hypermarket/Images/'+ links[i][0] \\\n",
    "                         + '_2' + \".jpeg\", \"wb\")\n",
    "        imagefile.write(infile)\n",
    "        imagefile.close()\n",
    "\n",
    "    except Exception as e:\n",
    "        pass\n",
    "#----------------------Third Image------------------------------------------------#\n",
    "    try:\n",
    "        image_url = links[i][7]\n",
    "\n",
    "        #Open the URL as Browser, not as python urllib\n",
    "        page = urllib.request.Request(image_url,headers = hdr)\n",
    "        infile = urllib.request.urlopen(page).read()\n",
    "\n",
    "        #Read the content as string decoded with ISO-8859-1\n",
    "        #data = infile.decode('ISO-8859-1')\n",
    "\n",
    "        imagefile = open('C:/Users/Mazhar/Projects_Jupyter/5.Scraping-Lulu_Hypermarket/Images/'+ links[i][0] \\\n",
    "                         + '_3' + \".jpeg\", \"wb\")\n",
    "        imagefile.write(infile)\n",
    "        imagefile.close()\n",
    "\n",
    "    except Exception as e:\n",
    "        pass\n"
   ]
  }
 ],
 "metadata": {
  "kernelspec": {
   "display_name": "Python 3",
   "language": "python",
   "name": "python3"
  },
  "language_info": {
   "codemirror_mode": {
    "name": "ipython",
    "version": 3
   },
   "file_extension": ".py",
   "mimetype": "text/x-python",
   "name": "python",
   "nbconvert_exporter": "python",
   "pygments_lexer": "ipython3",
   "version": "3.7.6"
  }
 },
 "nbformat": 4,
 "nbformat_minor": 4
}
